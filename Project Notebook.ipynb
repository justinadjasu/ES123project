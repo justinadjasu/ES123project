{
 "cells": [
  {
   "cell_type": "markdown",
   "metadata": {},
   "source": [
    "# Equation Driving Kidney Filtration\n",
    "\n",
    "\n",
    "## Reynolds Transport Theorem\n",
    "\n",
    "### $ \\frac{DB_{sys}}{Dt} = \\int_{CV}b\\rho dV + \\int_{CS}b\\rho (v \\cdot n)dS  $\n",
    "\n",
    "## The change in concentration of a substance in blood: \n",
    "### $ \\frac{\\delta c}{\\delta t} = \\frac{[inflow] - [outflow]}{Volume_{blood}} $\n",
    "\n",
    "### $ = \\frac{[GFR \\cdot c_{GFR}] - [Urination \\cdot c_{Urine}]}{Blood Volume} $\n"
   ]
  },
  {
   "cell_type": "code",
   "execution_count": null,
   "metadata": {},
   "outputs": [],
   "source": []
  }
 ],
 "metadata": {
  "kernelspec": {
   "display_name": "Python 3",
   "language": "python",
   "name": "python3"
  },
  "language_info": {
   "codemirror_mode": {
    "name": "ipython",
    "version": 3
   },
   "file_extension": ".py",
   "mimetype": "text/x-python",
   "name": "python",
   "nbconvert_exporter": "python",
   "pygments_lexer": "ipython3",
   "version": "3.8.3"
  }
 },
 "nbformat": 4,
 "nbformat_minor": 4
}
